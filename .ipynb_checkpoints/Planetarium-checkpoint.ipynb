{
 "cells": [
  {
   "cell_type": "markdown",
   "id": "imposed-fiber",
   "metadata": {},
   "source": [
    "# <center> Mouvement d'un corps dans le système solaire\n",
    "\n",
    "### Etienne PROFIT\n",
    "### Maxime MUNIER"
   ]
  },
  {
   "cell_type": "markdown",
   "id": "arranged-arlington",
   "metadata": {},
   "source": [
    "### Introduction : \n",
    "<br>\n",
    "Le but de ce projet est de prédire la trajectoire d'un objet dans le système solaire. Tout d'abord, nous allons nous intéresser à l'orbite terrestre que nous déterminerons grâce aux paramètres Kepleriens dans le cadre d'un problème à 2 corps. Ensuite nous appliquerons ce procédé aux 8 planètes du système solaire et nous tracerons leurs orbites et détermineront leurs position en fonction du temps. Enfin, nous appliquerons le principe fondamental de la dynamique sur un objet quelconque situé n'importe où dans le système solaire, et par intégration, nous en déduirons ses positions successives en fonction du temps"
   ]
  },
  {
   "cell_type": "code",
   "execution_count": 1,
   "id": "designing-harrison",
   "metadata": {},
   "outputs": [],
   "source": [
    "# Quelques imports nécéssaires au bon déroulement du projet\n",
    "\n",
    "#Si vous utilisez le programme sous JupyterLab au lieu de Jupyter Notebook, les étapes suivantes sont à réaliser afin de permettre l'interactivité des graph\n",
    "#Dans la console, tapez les lignes suivantes (sans les #)\n",
    "#conda install -y nodejs\n",
    "#pip install ipympl\n",
    "#jupyter labextension install @jupyter-widgets/jupyterlab-manager\n",
    "#jupyter labextension install jupyter-matplotlib\n",
    "#jupyter nbextension enable --py widgetsnbextension\n",
    "#Redémarrez JupyterLab\n",
    "\n",
    "import numpy as np\n",
    "import matplotlib.pyplot as plt\n",
    "from math import *\n",
    "import pandas as pd\n",
    "from ipywidgets import *\n",
    "from matplotlib.widgets import Slider\n",
    "from matplotlib.widgets import TextBox\n",
    "from mpl_toolkits import mplot3d"
   ]
  },
  {
   "cell_type": "code",
   "execution_count": 2,
   "id": "established-bridge",
   "metadata": {},
   "outputs": [],
   "source": [
    "# Constantes du problème\n",
    "G=6.6743e-11 #m**3/kg/s²"
   ]
  },
  {
   "cell_type": "markdown",
   "id": "infectious-reform",
   "metadata": {},
   "source": [
    "### Partie I : Orbite d'un corps autour du soleil\n",
    "\n",
    "Ici, on va tenter de formaliser l'orbite d'un corps autour d'une planète en passant par les expressions des différentes anomalies.\n",
    "\n",
    "D'abord, l'anomalie moyenne M peut être calculée facilement en fonction du temps et du moyen mouvement d'une planète. Ces moyens mouvements ont été trouvé sur le site de la nasa (voir Bibliographie en fin de document).\n",
    "\n",
    "$$ M= n\\times(t-t_{0}) $$\n",
    " \n",
    "   \n",
    "avec :\n",
    "* $M$ : anomalie moyenne en radian, \n",
    "* $n$ : moyen mouvement en radian/jour, \n",
    "* $t$ : temps choisi et \n",
    "* $t_{0}$: passage de la planète au périapside\n",
    "    \n",
    "\n",
    "On va effectuer nos calculs pour la planète Terre afin d'éprouver leur efficacité."
   ]
  },
  {
   "cell_type": "code",
   "execution_count": 3,
   "id": "static-quantity",
   "metadata": {},
   "outputs": [],
   "source": [
    "# Fonction calculant l'anomalie moyenne en fonction du temps, du moyen mouvement d'un corps,\n",
    "#et de l'origine des temps, passage de la planète au périapside\n",
    "def M(t,m,t0):\n",
    "    return m*(t-t0)"
   ]
  },
  {
   "cell_type": "markdown",
   "id": "loose-bermuda",
   "metadata": {},
   "source": [
    "On peut utiliser cette anomalie moyenne pour déterminer l'anomalie excentrique à un instant t grâce au calcul suivant : \n",
    "\n",
    "$$\n",
    "E=M+e\\times\\sin(E)\n",
    "$$\n",
    "avec :\n",
    "* $M$ : anomalie moyenne en radian (calculée ci-dessus)\n",
    "* $e$ : excentricité (donnée trouvée sur les éphémérides du Jet Propulsion Laboratory)\n",
    "* $E$ : anomalie excentrique en radian\n",
    "\n",
    "C'est une équation non linéaire, on va tenter d'approcher la valeur de E par deux méthodes différentes. Une méthode itérative, et une méthode dichotomique."
   ]
  },
  {
   "cell_type": "code",
   "execution_count": 64,
   "id": "accredited-insight",
   "metadata": {},
   "outputs": [
    {
     "name": "stdout",
     "output_type": "stream",
     "text": [
      "1.7364813835918889\n",
      "1.7364902203363566\n"
     ]
    }
   ],
   "source": [
    "# Fonction calculant l'anomalie excentrique en fonction de l'anomalie moyenne et de l'excentricité de manière itérative\n",
    "def E_iter(M,e,Nb_iter):\n",
    "    E = M\n",
    "    for i in range(0,Nb_iter):\n",
    "        E = M + e * np.sin(E)\n",
    "    return E\n",
    "\n",
    "#Fonction calculant l'anomalie excentrique en fonction de l'anomalie moyenne par dichotomie\n",
    "def E_dicho(M,e, precision):\n",
    "    a=0\n",
    "    b=2*np.pi\n",
    "    c=(a+b)/2\n",
    "    x=e*np.sin(c)+M-c\n",
    "    while(abs(x)>precision):\n",
    "        resa = e*np.sin(c)+(M-c)\n",
    "        resb = e*np.sin(a)+(M-a)\n",
    "        if (resa * resb<0):\n",
    "            b=c\n",
    "            c=(a+b)/2\n",
    "            x=e*np.sin(c)+M-c\n",
    "        else:\n",
    "            a=c\n",
    "            c=(a+b)/2\n",
    "            x=e*np.sin(c)+M-c\n",
    "    return c\n",
    "\n",
    "#On teste ces deux méthodes :\n",
    "ex_terre=0.01671022\n",
    "a=149.6*10**9 #m\n",
    "mm=0.01720 #rad/s\n",
    "Mo=M(100,mm,0)\n",
    "\n",
    "print(E_iter(Mo,ex_terre,30))\n",
    "print(E_dicho(Mo,ex_terre,1e-5))"
   ]
  },
  {
   "cell_type": "markdown",
   "id": "dynamic-struggle",
   "metadata": {},
   "source": [
    "Les deux techniques donnent des résultats très similaires. Par soucis de simplicité, on va utiliser la méthode itérative avec 30 iterations."
   ]
  },
  {
   "cell_type": "markdown",
   "id": "monthly-parade",
   "metadata": {},
   "source": [
    "De cette anomalie excentrique peut être déduite l'anomalie vrai à l'instant t tel que : \n",
    "$$\n",
    "\\tan(\\frac{V}{2})=\\sqrt{\\frac{1+e}{1-2}}\\tan(\\frac{E}{2})\n",
    "$$\n",
    "<br>\n",
    "et donc : \n",
    "<br>\n",
    "    \n",
    "$$\n",
    "V=2\\times\\arctan(\\sqrt{\\frac{1+e}{1-2}}tan(\\frac{E}{2}))\n",
    "$$\n",
    "avec :\n",
    "* $V$ : anomalie vraie en radian\n",
    "* $e$ : excentricité (donnée trouvée sur les éphémérides du Jet Propulsion Laboratory)\n",
    "* $E$ : anomalie excentrique en radian\n",
    "\n"
   ]
  },
  {
   "cell_type": "code",
   "execution_count": 65,
   "id": "large-polyester",
   "metadata": {},
   "outputs": [],
   "source": [
    "def V(E,e):\n",
    "    return 2*np.arctan((np.sqrt(1+e)/np.sqrt(1-e))*np.tan(E/2))"
   ]
  },
  {
   "cell_type": "markdown",
   "id": "traditional-recipe",
   "metadata": {},
   "source": [
    "Finalement, on utilise cette anomalie vraie pour déterminer la distance du corps à son astre, en fonction du demi grand-axe a.\n",
    "$$\n",
    "R=\\frac{a(1-e)^2}{1+e\\cos(V)}\n",
    "$$\n",
    "\n",
    "avec :\n",
    "* $R$ : distance du corps à son astre\n",
    "* $V$ : anomalie vraie en radian\n",
    "* $e$ : excentricité (donnée trouvée sur les éphémérides du Jet Propulsion Laboratory)\n",
    "* $a$ : demi-grand-axe (donnée trouvée sur les éphémérides du Jet Propulstion Laboratory)"
   ]
  },
  {
   "cell_type": "code",
   "execution_count": 66,
   "id": "guilty-scanning",
   "metadata": {},
   "outputs": [],
   "source": [
    "def R(anom, a, e):\n",
    "    return ((a*(1-e**2))/(1+e*np.cos(anom)))"
   ]
  },
  {
   "cell_type": "markdown",
   "id": "faced-paint",
   "metadata": {},
   "source": [
    "Eprouvons maintenant ces méthodes sur l'orbite terrestre. Cette orbite dure 365 jours environ. Cela donne 31536000 secondes."
   ]
  },
  {
   "cell_type": "code",
   "execution_count": 68,
   "id": "weird-patrol",
   "metadata": {},
   "outputs": [],
   "source": [
    "year= 31536000#s\n",
    "nbdays=365 #j\n",
    "time=np.linspace(0,365,366)\n",
    "ex_terre=0.01671022\n",
    "a=149.6*10**9 #m\n",
    "mm=0.01720 #rad/s\n",
    "t0=0 #s\n",
    "\n",
    "\n",
    "#Calcul pour la terre\n",
    "M_terre=M(time,mm,t0)\n",
    "E_terre=E_iter(M_terre,ex_terre,30)\n",
    "V_terre=V(E_terre,ex_terre)\n",
    "R_terre=R(V_terre,a,ex_terre)"
   ]
  },
  {
   "cell_type": "code",
   "execution_count": 69,
   "id": "contrary-stack",
   "metadata": {},
   "outputs": [
    {
     "data": {
      "application/vnd.jupyter.widget-view+json": {
       "model_id": "555537eb87ed48c1b89b4c36f9b036c8",
       "version_major": 2,
       "version_minor": 0
      },
      "text/plain": [
       "Canvas(toolbar=Toolbar(toolitems=[('Home', 'Reset original view', 'home', 'home'), ('Back', 'Back to previous …"
      ]
     },
     "metadata": {},
     "output_type": "display_data"
    }
   ],
   "source": [
    "fig = plt.figure(figsize=(8, 8))\n",
    "ax = fig.add_subplot(111, projection='polar')\n",
    "ax.plot(V_terre,R_terre)\n",
    "plt.show()\n"
   ]
  },
  {
   "cell_type": "markdown",
   "id": "south-mouse",
   "metadata": {},
   "source": [
    "On note que l'on obtient un résultat intéressant, une orbite circulaire cohérente à ce que nous attendions.On peut créer une fonction qui réalise le travail précédent automatiquement et que l'on utilisera dans la suite du projet.\n"
   ]
  },
  {
   "cell_type": "code",
   "execution_count": 70,
   "id": "present-triumph",
   "metadata": {},
   "outputs": [],
   "source": [
    "# Cette fonction calcule la position au jour j de la planète étudiée en fonction \n",
    "# de son excentricité e, de son moyen mouvement mm et de son demi grand axe a, et\n",
    "# de sa position initiale t0, puis renvoie ses coordonnées cartesiennes.\n",
    "def pos_planete(j,e,a,mm,t0):\n",
    "    M_tmp = M(j,mm,t0)\n",
    "    E_tmp = E(M_tmp,e)\n",
    "    V_tmp = V(E_tmp,e)\n",
    "    R_tmp = R(V_tmp,a,e)\n",
    "    x = R_tmp * np.cos(V_tmp)\n",
    "    y = R_tmp * np.sin(V_tmp)\n",
    "    return [x,y,0]"
   ]
  },
  {
   "cell_type": "markdown",
   "id": "recreational-therapy",
   "metadata": {},
   "source": [
    "### Partie 2 : Orbite des planètes du système solaire autour du soleil\n",
    "<br>\n",
    "Appliquons maintenant ce procédé aux autres planètes du système solaire. "
   ]
  },
  {
   "cell_type": "markdown",
   "id": "answering-median",
   "metadata": {},
   "source": [
    "##### 1- Ajout des données récoltées"
   ]
  },
  {
   "cell_type": "markdown",
   "id": "olympic-plasma",
   "metadata": {},
   "source": [
    "Afin de calculer l'anomalie vraie et la distance du corps à son astre pour toutes les autres planètes, on créé un fichier dataplanets.csv comprenant les données récupérées sur les sites du JET PROPULSION LABORATORY et de la NASA. "
   ]
  },
  {
   "cell_type": "code",
   "execution_count": 71,
   "id": "wooden-capital",
   "metadata": {},
   "outputs": [],
   "source": [
    "#Ajout des données pour les orbites des différentes planètes \n",
    "data=pd.read_csv('dataplanets.csv',delimiter=',' )\n",
    "\n",
    "\n",
    "#Organisation des données par listes\n",
    "nom = data.PLANETE.tolist()\n",
    "demi_gd_axe=data.DEMIGRANDAXE.tolist()\n",
    "excentricite=data.EXCENTRICITE.tolist()\n",
    "temps_sec=data.PERIODESEC.tolist()\n",
    "temps_jours=data.PERIODEJOUR.tolist()\n",
    "ANGLES=data.ANGLES.tolist()\n",
    "Tzero=data.T0.tolist()\n",
    "masses=data.MASSE.tolist()\n"
   ]
  },
  {
   "cell_type": "markdown",
   "id": "racial-speed",
   "metadata": {},
   "source": [
    "##### 2- Estimation des erreurs"
   ]
  },
  {
   "cell_type": "markdown",
   "id": "nearby-drink",
   "metadata": {},
   "source": [
    "Un modèle étant une représentation simplifiée de la réalité, nous avons du faire des choix sur les paramètres à conserver, et ceux à écarter. Ces hypothèses simplificatrices seront annoncées et leur impact mesuré tout au long du projet.\n",
    "<br>\n",
    "\n",
    "\n",
    "En premier lieu,nous avons décidé, de considérer les orbites des planètes comme étant toutes sur le plan de l'écliptique et ayant des orbites centrées sur le soleil. Nous allons cependant calculer les différences de position au demi-grand-axe (a) en prenant en compte l'angle de l'orbite de chaque planète (nommé \"i\" et donnée par rapport au plan de l'écliptique) afin d'estimer l'erreur sur la position des planètes. Pour cela, nous allons appliquer des règles de trigonométrie dans un triangle selon le schéma suivant : \n",
    "\n"
   ]
  },
  {
   "attachments": {
    "image.png": {
     "image/png": "[encoded data removed]"
    }
   },
   "cell_type": "markdown",
   "id": "equipped-jumping",
   "metadata": {},
   "source": [
    "![image.png](attachment:image.png)"
   ]
  },
  {
   "cell_type": "markdown",
   "id": "limited-particular",
   "metadata": {},
   "source": [
    "Le demi-grand-axe étant le même quelque soit l'inclinaison de l'orbite. On applique donc la formule suivante : \n",
    "$$\n",
    "sin(\\frac{i}{2})*a=\\frac{1}{2}décalage\n",
    "$$\n",
    "et donc : \n",
    "$$\n",
    "décalage=2*sin(\\frac{i}{2})*a\n",
    "$$"
   ]
  },
  {
   "cell_type": "code",
   "execution_count": 72,
   "id": "registered-detector",
   "metadata": {},
   "outputs": [],
   "source": [
    "#Création de notre fonction pour le calcul du décalage\n",
    "def decal (a,i):\n",
    "    return abs(2 * np.sin(np.deg2rad(i/2)) * a)\n"
   ]
  },
  {
   "cell_type": "code",
   "execution_count": 73,
   "id": "logical-polish",
   "metadata": {},
   "outputs": [
    {
     "name": "stdout",
     "output_type": "stream",
     "text": [
      "On obtient pour MERCURE , un décalage de : 7070516776.59 m\n",
      "On obtient pour VENUS , un décalage de : 6420278433.62 m\n",
      "On obtient pour TERRE , un décalage de : 0.0 m\n",
      "On obtient pour MARS , un décalage de : 7558744103.24 m\n",
      "On obtient pour JUPITER , un décalage de : 17661955727.56 m\n",
      "On obtient pour SATURNE , un décalage de : 62536741584.84 m\n",
      "On obtient pour URANUS , un décalage de : 40156151582.4 m\n",
      "On obtient pour NEPTUNE , un décalage de : 142285067711.54 m\n"
     ]
    }
   ],
   "source": [
    "#Calcul du décalage par planètes \n",
    "decal_planetes=[]\n",
    "\n",
    "for i in range(len(nom)) : \n",
    "    decal_planetes.append(decal(demi_gd_axe[i],ANGLES[i]))\n",
    "    \n",
    "for i in range(len(nom)):\n",
    "    print(\"On obtient pour\", nom[i],\", un décalage de :\",np.round(decal_planetes[i],2), \"m\")"
   ]
  },
  {
   "cell_type": "markdown",
   "id": "bibliographic-musical",
   "metadata": {},
   "source": [
    "Rapportons maintenant ce décalage au demi-grand-axe afin d'obtenir un ordre d'idée de l'influence de cette simplification sur nos calculs futurs : \n"
   ]
  },
  {
   "cell_type": "code",
   "execution_count": 74,
   "id": "armed-paintball",
   "metadata": {},
   "outputs": [
    {
     "name": "stdout",
     "output_type": "stream",
     "text": [
      "Le décalage représente, pour MERCURE : 12.21 % de son demi grand axe\n",
      "Le décalage représente, pour VENUS : 5.93 % de son demi grand axe\n",
      "Le décalage représente, pour TERRE : 0.0 % de son demi grand axe\n",
      "Le décalage représente, pour MARS : 3.32 % de son demi grand axe\n",
      "Le décalage représente, pour JUPITER : 2.27 % de son demi grand axe\n",
      "Le décalage représente, pour SATURNE : 4.36 % de son demi grand axe\n",
      "Le décalage représente, pour URANUS : 1.4 % de son demi grand axe\n",
      "Le décalage représente, pour NEPTUNE : 3.14 % de son demi grand axe\n"
     ]
    }
   ],
   "source": [
    "#Calculons le pourcentage de décalage par rapport au demi-grand-axe : \n",
    "pourcentages_decal=[]\n",
    "for i in range(len(nom)):\n",
    "    pourcentages_decal.append(decal_planetes[i]*100/(demi_gd_axe[i]))\n",
    "\n",
    "for i in range(len(nom)):\n",
    "    print(\"Le décalage représente, pour\", nom[i],\":\",round(pourcentages_decal[i],2), \"% de son demi grand axe\")"
   ]
  },
  {
   "cell_type": "markdown",
   "id": "whole-poison",
   "metadata": {},
   "source": [
    "Un modèle est par nature, une représentation simplifiée de la réalité, afin d'estimer l'erreur de notre modèle nous comparerons en fin de document, les données des planètes modélisées à celles trouvées dans des ephemerides."
   ]
  },
  {
   "cell_type": "markdown",
   "id": "geographic-creek",
   "metadata": {},
   "source": [
    "##### 3- Représentation des orbites\n",
    "\n",
    "Représentons donc maintenant les orbites des différentes planètes. Dans la suite du projet, on fera référence aux planètes intérieures pour MERCURE,VENUS,TERRE,MARS, et aux planètes extérieures pour JUPITER,SATURNE,URANUS,NEPTUNE"
   ]
  },
  {
   "cell_type": "code",
   "execution_count": 75,
   "id": "mature-taxation",
   "metadata": {},
   "outputs": [],
   "source": [
    "#Calcul du moyen mouvement en rad/s pour les différentes planètes\n",
    "moy_mouv_s=[]\n",
    "for i in range(len(nom)):\n",
    "    moy_mouv_s.append((2*np.pi)/temps_sec[i])\n",
    "\n",
    "#Création des listes pour les valeurs calculées\n",
    "M_list=[]\n",
    "E_list=[]\n",
    "V_list=[]\n",
    "R_list=[]\n",
    "T_list=[]\n",
    "\n",
    "\n",
    "#Remplissage des listes pour le calcul des orbites\n",
    "for i in range(len(nom)):\n",
    "    T_list.append(np.linspace(0,int(temps_sec[i]),int(temps_jours[i])))\n",
    "    M_list.append(M(T_list[i],moy_mouv_s[i],Tzero[i]))\n",
    "    E_list.append(E(M_list[i],excentricite[i]))\n",
    "    V_list.append(V(E_list[i],excentricite[i]))\n",
    "    R_list.append(R(V_list[i],demi_gd_axe[i],excentricite[i]))\n",
    "    \n"
   ]
  },
  {
   "cell_type": "code",
   "execution_count": 76,
   "id": "affiliated-consolidation",
   "metadata": {},
   "outputs": [
    {
     "data": {
      "application/vnd.jupyter.widget-view+json": {
       "model_id": "71807ce1e0cf40e4bb9d4fb4bea9422c",
       "version_major": 2,
       "version_minor": 0
      },
      "text/plain": [
       "Canvas(toolbar=Toolbar(toolitems=[('Home', 'Reset original view', 'home', 'home'), ('Back', 'Back to previous …"
      ]
     },
     "metadata": {},
     "output_type": "display_data"
    }
   ],
   "source": [
    "#Représentation graphique en projection polaire plane\n",
    "fig = plt.figure(figsize=(8, 8))\n",
    "ax = fig.add_subplot(111, projection='polar')\n",
    "\n",
    "ax.plot(0,0,'ro',c='yellow',label='SOLEIL')\n",
    "\n",
    "ax.plot(V_list[0],R_list[0], c='grey', label='MERCURE')\n",
    "ax.plot(V_list[1],R_list[1], c='brown', label='VENUS')\n",
    "ax.plot(V_list[2],R_list[2], c='dodgerblue', label='TERRE')\n",
    "ax.plot(V_list[3],R_list[3], c='red', label='MARS')\n",
    "\n",
    "\n",
    "plt.title(\"Orbites des planètes internes\")\n",
    "\n",
    "\n",
    "legend = plt.legend(loc = 'best')\n",
    "\n",
    "\n",
    "plt.show()"
   ]
  },
  {
   "cell_type": "markdown",
   "id": "premier-qualification",
   "metadata": {},
   "source": [
    "On passe ensuite en coordonnées cartésiennes pour pouvoir calculer la trajectoire de notre objet et pour plot en 3d afin d'avoir une représentation en perspective.  "
   ]
  },
  {
   "cell_type": "code",
   "execution_count": 77,
   "id": "interpreted-republic",
   "metadata": {},
   "outputs": [],
   "source": [
    "#Passage en coordonnées cartésiennes pour plot les orbites en 3d\n",
    "\n",
    "def pol2cart(r, phi):\n",
    "    x = r * np.cos(phi)\n",
    "    y = r * np.sin(phi)\n",
    "   \n",
    "    return(x,y)\n",
    "\n",
    "#Listes de position pour créer les orbites\n",
    "MERCURE=pol2cart(R_list[0],V_list[0])\n",
    "VENUS=pol2cart(R_list[1],V_list[1])\n",
    "TERRE=pol2cart(R_list[2],V_list[2])\n",
    "MARS=pol2cart(R_list[3],V_list[3])\n",
    "JUPITER=pol2cart(R_list[4],V_list[4])\n",
    "SATURNE=pol2cart(R_list[5],V_list[5])\n",
    "URANUS=pol2cart(R_list[6],V_list[6])\n",
    "NEPTUNE=pol2cart(R_list[7],V_list[7])\n"
   ]
  },
  {
   "cell_type": "markdown",
   "id": "corresponding-hydrogen",
   "metadata": {},
   "source": [
    "Nous allons ensuite créer des fonctions permettant de représenter les orbites des planètes ainsi que la position de celles-ci sur leurs orbites : "
   ]
  },
  {
   "cell_type": "code",
   "execution_count": 78,
   "id": "former-version",
   "metadata": {},
   "outputs": [],
   "source": [
    "#Calcul du moyen mouvement en rad/j pour les différentes planètes\n",
    "moy_mouv=[]\n",
    "for i in range(len(nom)):\n",
    "    moy_mouv.append((2*np.pi)/temps_jours[i])\n",
    "    \n",
    "#Fonction permettant de plot la position des planètes intérieures sur leur orbite \n",
    "def planetes_scatter_int(idx):\n",
    "    ax.cla()\n",
    "    mercure=pos_planete(idx,excentricite[0],demi_gd_axe[0],moy_mouv[0],Tzero[0])\n",
    "    venus=pos_planete(idx,excentricite[1],demi_gd_axe[1],moy_mouv[1],Tzero[1])\n",
    "    terre=pos_planete(idx,excentricite[2],demi_gd_axe[2],moy_mouv[2],Tzero[2])\n",
    "    mars=pos_planete(idx,excentricite[3],demi_gd_axe[3],moy_mouv[3],Tzero[3])\n",
    "    ax.scatter(mercure[0],mercure[1], c='grey', label='MERCURE')\n",
    "    ax.scatter(venus[0],venus[1], c='brown', label='VENUS')\n",
    "    ax.scatter(terre[0],terre[1], c='dodgerblue', label='TERRE')\n",
    "    ax.scatter(mars[0],mars[1], c='red', label='MARS')\n",
    "\n",
    "#Fonction permettant de plot l'orbite des planètes intérieures\n",
    "def planetes_plot_int(idx):\n",
    "    ax.plot(MERCURE[0],MERCURE[1], c='grey', label='MERCURE')\n",
    "    ax.plot(VENUS[0],VENUS[1], c='brown', label='VENUS')\n",
    "    ax.plot(TERRE[0],TERRE[1], c='dodgerblue', label='TERRE')\n",
    "    ax.plot(MARS[0],MARS[1], c='red', label='MARS')\n",
    "\n",
    "#Fonction permettant de plot la position des planètes extérieures sur leur orbite \n",
    "def planetes_scatter_ext(idx):\n",
    "    ax.cla()\n",
    "    jupiter=pos_planete(idx,excentricite[4],demi_gd_axe[4],moy_mouv[4],Tzero[4])\n",
    "    saturne=pos_planete(idx,excentricite[5],demi_gd_axe[5],moy_mouv[5],Tzero[5])\n",
    "    uranus=pos_planete(idx,excentricite[6],demi_gd_axe[6],moy_mouv[6],Tzero[6])\n",
    "    neptune=pos_planete(idx,excentricite[7],demi_gd_axe[7],moy_mouv[7],Tzero[7])\n",
    "    ax.scatter(jupiter[0],jupiter[1], c='orange', label='JUPITER')\n",
    "    ax.scatter(saturne[0],saturne[1], c='goldenrod', label='SATURNE')\n",
    "    ax.scatter(uranus[0],uranus[1], c='lightseagreen', label='URANUS')\n",
    "    ax.scatter(neptune[0],neptune[1], c='skyblue', label='NEPTUNE')\n",
    "\n",
    "#Fonction permettant de plot l'orbite des planètes extérieures\n",
    "def planetes_plot_ext(idx):\n",
    "    ax.plot(JUPITER[0],JUPITER[1], c='orange', label='JUPITER')\n",
    "    ax.plot(SATURNE[0],SATURNE[1], c='goldenrod', label='SATURNE')\n",
    "    ax.plot(URANUS[0],URANUS[1], c='lightseagreen', label='URANUS')\n",
    "    ax.plot(NEPTUNE[0],NEPTUNE[1], c='skyblue', label='NEPTUNE')"
   ]
  },
  {
   "cell_type": "code",
   "execution_count": 79,
   "id": "earlier-express",
   "metadata": {},
   "outputs": [
    {
     "data": {
      "application/vnd.jupyter.widget-view+json": {
       "model_id": "4cdd62fdfd4048e79249937506c1a604",
       "version_major": 2,
       "version_minor": 0
      },
      "text/plain": [
       "Canvas(toolbar=Toolbar(toolitems=[('Home', 'Reset original view', 'home', 'home'), ('Back', 'Back to previous …"
      ]
     },
     "metadata": {},
     "output_type": "display_data"
    }
   ],
   "source": [
    "#Utile pour la fonction Slider, textbox et pour rendre les graph interactifs\n",
    "#Activez Widget pour une utilisation depuis JupyterLAB,  Notebook pour une utilisation depuis JupyterNotebook\n",
    "%matplotlib widget \n",
    "#%matplotlib notebook\n",
    "\n",
    "from ipywidgets import *\n",
    "from matplotlib.widgets import Slider\n",
    "from matplotlib.widgets import TextBox\n",
    "\n",
    "\n",
    "fig = plt.figure(figsize=(8, 8))\n",
    "ax= fig.gca(projection='3d')\n",
    "\n",
    "\n",
    "\n",
    "#Création de la fonction permettant de \"rafraichir\" la position des planètes\n",
    "#En fonction de la valeur donnée par le slider\n",
    "def orbites_int(val):\n",
    "    idx = int(curseur.val)\n",
    "\n",
    "    #les planètes individuelles\n",
    "    planetes_scatter_int(idx)\n",
    "  \n",
    "    #le soleil\n",
    "    ax.scatter(0,0,0,'ro',c='yellow',label='SOLEIL')\n",
    "    \n",
    "    #les orbites   \n",
    "    planetes_plot_int(idx)\n",
    "    \n",
    "    plt.title(\"orbites des planètes intérieures\")\n",
    "    \n",
    "    fig.canvas.draw_idle()\n",
    "\n",
    "#En fonction de la valeur donnée par la saisie de texte\n",
    "def valeur_int(text):\n",
    "    idx = int(text)\n",
    "    \n",
    "    #les planètes individuelles\n",
    "    planetes_scatter_int(idx)\n",
    "    \n",
    "    #le soleil\n",
    "    ax.scatter(0,0,0,'ro',c='yellow',label='SOLEIL')\n",
    "    \n",
    "    #les orbites\n",
    "    planetes_plot_int(idx)\n",
    "      \n",
    "    fig.canvas.draw_idle()   \n",
    "    \n",
    "    \n",
    "# Slider\n",
    "barre_curseur = plt.axes([0.25, 0.05, 0.6, 0.03])\n",
    "curseur = Slider(barre_curseur, 'Défilement du temps (j)', 0, 6000, valinit=0, valfmt='%d')\n",
    "#ici on utilise 6000 comme valeure maximale de manière arbitraire pour plus de faciliter à utiliser le curseur\n",
    "\n",
    "curseur.on_changed(orbites_int)\n",
    "\n",
    "#Boite de saisie\n",
    "cadre_text = plt.axes([0.25, 0.15, 0.1, 0.03])\n",
    "text_box = TextBox(cadre_text, 'pos. des planètes au jour :')\n",
    "text_box.on_submit(valeur_int)\n",
    "\n",
    "#Permet d'avoir un peu de place sous le graphique pour les cadres\n",
    "plt.subplots_adjust(bottom=0.25)\n",
    "\n",
    "\n",
    "plt.show()"
   ]
  },
  {
   "cell_type": "markdown",
   "id": "intense-architect",
   "metadata": {},
   "source": [
    "### Partie 3 : Mouvement d'un objet dans le système solaire\n",
    "\n",
    "Dans cette troisième partie, nous prendrons en considération un objet de masse M, disposant d'une vitesse initiale arbitraire, et ayant pour point de départ des coordonnées cartésiennes elles aussi arbitraires.\n",
    "\n",
    "On définit aussi un delta-T correspondant au nombre de jours qu'on laisse passer entre chaque étape du calcul.\n",
    "\n",
    "Commençons par créer une fonction qui renvoie un tableau contenant les coordonnées à un jour j de toutes les planètes de la liste."
   ]
  },
  {
   "cell_type": "code",
   "execution_count": 80,
   "id": "modified-value",
   "metadata": {},
   "outputs": [],
   "source": [
    "moy_mouv=[]\n",
    "for i in range(len(nom)):\n",
    "    moy_mouv.append((2*np.pi)/temps_jours[i])\n",
    "\n",
    "#Cette fonction retourne un tableau de coordonnées, chaque ligne correspondant à une planète à partir de mercure.\n",
    "def coord_planetes(j):\n",
    "    COORD_PLANET=[]\n",
    "    COORD_PLANET.append((0,0,0))\n",
    "    for i in range(0,len(nom)):\n",
    "        COORD_PLANET.append(pos_planete(j,excentricite[i],demi_gd_axe[i],moy_mouv[i],0))\n",
    "    return COORD_PLANET\n"
   ]
  },
  {
   "cell_type": "markdown",
   "id": "choice-newsletter",
   "metadata": {},
   "source": [
    "Ensuite, on créé une fonction qui permet de calculer toutes les distances entre une planète et l'objet, ainsi que tous les vecteurs entre l'objet et chaque planète. Ces vecteurs nous permettrons ensuite de réaliser une fonction déterminant la norme des composantes des forces d'interaction gravitationnelles selon les 3 axes."
   ]
  },
  {
   "cell_type": "code",
   "execution_count": 81,
   "id": "stainless-subsection",
   "metadata": {},
   "outputs": [],
   "source": [
    "def dist(coord,x,y,z):\n",
    "    vecteurs=[]\n",
    "    distances=[]\n",
    "    for i in range(0,len(coord)):\n",
    "        vecteurs.append([x-coord[i][0],y-coord[i][1],z-coord[i][2]])\n",
    "        distances.append(sqrt((x-coord[i][0])**2 + (y-coord[i][1])**2 + (z-coord[i][2])**2))\n",
    "    return (vecteurs,distances)"
   ]
  },
  {
   "cell_type": "markdown",
   "id": "necessary-brief",
   "metadata": {},
   "source": [
    "On peut alors calculer toutes les normes des forces d'interaction gravitationnelles."
   ]
  },
  {
   "cell_type": "code",
   "execution_count": 82,
   "id": "casual-switzerland",
   "metadata": {},
   "outputs": [],
   "source": [
    "def normes(dist):\n",
    "    nrms=[]\n",
    "    nrms.append(-G*W*1.989e30/(dist[0]**2))\n",
    "    for i in range(0,len(nom)):\n",
    "        nrms.append(-G*W*masses[i]/(dist[i+1]**2))\n",
    "    return nrms"
   ]
  },
  {
   "cell_type": "markdown",
   "id": "accomplished-stream",
   "metadata": {},
   "source": [
    "Nous disposons maintenant d'un tableau des forces exercées sur l'objet au jour J. Maintenant nous devons calculer les composantes de chaque force sur chaque axe afin d'appliquer le principe fondamental de la dynamique."
   ]
  },
  {
   "cell_type": "code",
   "execution_count": 83,
   "id": "subsequent-bunch",
   "metadata": {},
   "outputs": [],
   "source": [
    "def composantes(distances,vecteurs,normes):\n",
    "    cmpsts=[]\n",
    "    for i in range(0,len(distances)):\n",
    "        nrm=1/sqrt(vecteurs[i][0]**2 + vecteurs[i][1]**2 + vecteurs[i][2]**2)\n",
    "        cmpsts.append([normes[i]*vecteurs[i][0]*nrm,normes[i]*vecteurs[i][1]*nrm,normes[i]*vecteurs[i][2]*nrm])\n",
    "    return cmpsts"
   ]
  },
  {
   "cell_type": "markdown",
   "id": "southern-paradise",
   "metadata": {},
   "source": [
    "Ne reste plus alors qu'à sommer toutes les composantes de ces forces pour obtenir l'interaction globale des planètes sur l'objet."
   ]
  },
  {
   "cell_type": "code",
   "execution_count": 84,
   "id": "medieval-simulation",
   "metadata": {},
   "outputs": [],
   "source": [
    "def PFD(composantes):\n",
    "    pfd=[0]*3\n",
    "    for i in range(0,len(composantes)):\n",
    "        pfd[0]+=composantes[i][0]\n",
    "        pfd[1]+=composantes[i][1]\n",
    "        pfd[2]+=composantes[i][2]\n",
    "    return pfd"
   ]
  },
  {
   "cell_type": "markdown",
   "id": "structural-screw",
   "metadata": {},
   "source": [
    "On peut alors définir nos trois vitesses selon les axes x, y et z en intégrant :"
   ]
  },
  {
   "cell_type": "code",
   "execution_count": 85,
   "id": "demonstrated-abuse",
   "metadata": {},
   "outputs": [],
   "source": [
    "def speed(composantes,vitesses_ini,t):\n",
    "    Vx=composantes[0]*t*86400/W + vitesses_ini[0]\n",
    "    Vy=composantes[1]*t*86400/W + vitesses_ini[1]\n",
    "    Vz=composantes[2]*t*86400/W + vitesses_ini[2]\n",
    "    return [Vx,Vy,Vz]"
   ]
  },
  {
   "cell_type": "markdown",
   "id": "funded-diagnosis",
   "metadata": {},
   "source": [
    "Finalement on recalcule la nouvelle position grâce à ces vitesses."
   ]
  },
  {
   "cell_type": "code",
   "execution_count": 86,
   "id": "conditional-trailer",
   "metadata": {},
   "outputs": [],
   "source": [
    "def pos(vitesses, pos_ini, pas):\n",
    "    #Le pas est en jours ! \n",
    "    x=pos_ini[0] + pas*86400*vitesses[0]\n",
    "    y=pos_ini[1] + pas*86400*vitesses[1]\n",
    "    z=pos_ini[2] + pas*86400*vitesses[2]\n",
    "    return [x,y,z]"
   ]
  },
  {
   "cell_type": "markdown",
   "id": "annual-schedule",
   "metadata": {},
   "source": [
    "Nous avons donc désormais tous les éléments pour réaliser une fonction calculant les positions successives de l'objet en utilisant la méthode d'Euler."
   ]
  },
  {
   "cell_type": "code",
   "execution_count": 87,
   "id": "separated-idaho",
   "metadata": {},
   "outputs": [],
   "source": [
    "def Euler(pos_ini, speed_ini, step, nb_iter):\n",
    "    x=pos_ini[0]\n",
    "    y=pos_ini[1]\n",
    "    z=pos_ini[2]\n",
    "    Vx=speed_ini[0]\n",
    "    Vy=speed_ini[1]\n",
    "    Vz=speed_ini[2]\n",
    "    POS_OBJ=[[x,y,z]]\n",
    "    for i in range(0, nb_iter):\n",
    "        jour=i*step\n",
    "        C = coord_planetes(jour)\n",
    "        D = dist(C,x,y,z)\n",
    "        N = normes(D[1])\n",
    "        Com = composantes(D[1], D[0], N)\n",
    "        P = PFD(Com)\n",
    "        Vx,Vy,Vz = speed(P,[Vx,Vy,Vz],step)\n",
    "        x,y,z = pos([Vx,Vy,Vz],[x,y,z],step)\n",
    "        POS_OBJ.append([x,y,z])\n",
    "    return POS_OBJ"
   ]
  },
  {
   "cell_type": "markdown",
   "id": "comic-ladder",
   "metadata": {},
   "source": [
    "Afin de vérifier que nos fonctions nous permettent bien de calculer la trajectoire d'un objet, nous allons réaliser un graphique test"
   ]
  },
  {
   "cell_type": "code",
   "execution_count": 88,
   "id": "satisfied-weekend",
   "metadata": {},
   "outputs": [
    {
     "data": {
      "application/vnd.jupyter.widget-view+json": {
       "model_id": "4886017a543a4ea2b2061258c0c194ec",
       "version_major": 2,
       "version_minor": 0
      },
      "text/plain": [
       "Canvas(toolbar=Toolbar(toolitems=[('Home', 'Reset original view', 'home', 'home'), ('Back', 'Back to previous …"
      ]
     },
     "metadata": {},
     "output_type": "display_data"
    }
   ],
   "source": [
    "x0 = 1.5e12\n",
    "y0 = 5e11\n",
    "z0 = -1e8\n",
    "v0x = 0\n",
    "v0y = 0\n",
    "v0z = 0\n",
    "W = 3e5\n",
    "\n",
    "fig = plt.figure(figsize=(8, 8))\n",
    "ax= fig.gca(projection='3d')\n",
    "\n",
    "#Ici, nous calculons 2200 valeurs, nombre choisi de manière arbitraire\n",
    "POS_OBJ_test=Euler([x0,y0,z0],[v0x,v0y,v0z],1,2200)\n",
    "\n",
    "ax.scatter(x0,y0,z0,marker='o',c='red')\n",
    "ax.scatter(0,0,0,marker='o',c='yellow')\n",
    "for i in range(0,len(POS_OBJ_test)):\n",
    "    ax.scatter(POS_OBJ_test[i][0], POS_OBJ_test[i][1],POS_OBJ_test[i][2],marker='.',c='black')\n",
    "    \n",
    "planetes_plot_int(30)\n",
    "planetes_plot_ext(30)"
   ]
  },
  {
   "cell_type": "markdown",
   "id": "operating-glance",
   "metadata": {},
   "source": [
    "Il est maintenant temps d'utiliser notre modèle, pour cela, renseignez des données dans les champs ci-dessous, exécutez la fonction et le graphique, puis faites défiler les jours pour observer le comportement de l'objet. Vous pouvez zoomer sur le graphique en laissant appuyer le clic droit et en tirant vers une direction."
   ]
  },
  {
   "cell_type": "code",
   "execution_count": 89,
   "id": "infrared-sending",
   "metadata": {},
   "outputs": [
    {
     "data": {
      "application/vnd.jupyter.widget-view+json": {
       "model_id": "8d4642835b0545f2affc3103b87d4533",
       "version_major": 2,
       "version_minor": 0
      },
      "text/plain": [
       "HBox(children=(FloatText(value=0.0, description='x0:'),))"
      ]
     },
     "metadata": {},
     "output_type": "display_data"
    },
    {
     "data": {
      "application/vnd.jupyter.widget-view+json": {
       "model_id": "d77326004e6e425691d5c029693969b1",
       "version_major": 2,
       "version_minor": 0
      },
      "text/plain": [
       "HBox(children=(FloatText(value=0.0, description='y0:'),))"
      ]
     },
     "metadata": {},
     "output_type": "display_data"
    },
    {
     "data": {
      "application/vnd.jupyter.widget-view+json": {
       "model_id": "8aeb1b8f7f37423d8057b135ac1e28c1",
       "version_major": 2,
       "version_minor": 0
      },
      "text/plain": [
       "HBox(children=(FloatText(value=0.0, description='z0:'),))"
      ]
     },
     "metadata": {},
     "output_type": "display_data"
    },
    {
     "data": {
      "application/vnd.jupyter.widget-view+json": {
       "model_id": "1525396d8d144b8386cded9d4c7428c3",
       "version_major": 2,
       "version_minor": 0
      },
      "text/plain": [
       "HBox(children=(FloatText(value=0.0, description='v0x:'),))"
      ]
     },
     "metadata": {},
     "output_type": "display_data"
    },
    {
     "data": {
      "application/vnd.jupyter.widget-view+json": {
       "model_id": "77f5f98c905b42c5ac0125ab6c6e26cb",
       "version_major": 2,
       "version_minor": 0
      },
      "text/plain": [
       "HBox(children=(FloatText(value=0.0, description='v0y:'),))"
      ]
     },
     "metadata": {},
     "output_type": "display_data"
    },
    {
     "data": {
      "application/vnd.jupyter.widget-view+json": {
       "model_id": "3e10f5b911834dbfb0bd9ed489b3e1e8",
       "version_major": 2,
       "version_minor": 0
      },
      "text/plain": [
       "HBox(children=(FloatText(value=0.0, description='v0z:'),))"
      ]
     },
     "metadata": {},
     "output_type": "display_data"
    },
    {
     "data": {
      "application/vnd.jupyter.widget-view+json": {
       "model_id": "b70f005799c54e76bb5a38100e84df3b",
       "version_major": 2,
       "version_minor": 0
      },
      "text/plain": [
       "HBox(children=(FloatText(value=0.0, description='masse:'),))"
      ]
     },
     "metadata": {},
     "output_type": "display_data"
    },
    {
     "data": {
      "application/vnd.jupyter.widget-view+json": {
       "model_id": "eea6844a1a06440faad74ef399bc9501",
       "version_major": 2,
       "version_minor": 0
      },
      "text/plain": [
       "HBox(children=(FloatText(value=0.0, description='nb jours:'),))"
      ]
     },
     "metadata": {},
     "output_type": "display_data"
    }
   ],
   "source": [
    "\n",
    "x = widgets.FloatText(x=0, description='x0:')\n",
    "saisie_x = widgets.HBox([x])\n",
    "display(saisie_x)\n",
    "\n",
    "y = widgets.FloatText(y=0, description='y0:')\n",
    "saisie_y = widgets.HBox([y])\n",
    "display(saisie_y)\n",
    "\n",
    "z = widgets.FloatText(z=0, description='z0:')\n",
    "saisie_z = widgets.HBox([z])\n",
    "display(saisie_z)\n",
    "\n",
    "vx = widgets.FloatText(vx=0, description='v0x:')\n",
    "saisie_vx = widgets.HBox([vx])\n",
    "display(saisie_vx)\n",
    "\n",
    "vy = widgets.FloatText(vy=0, description='v0y:')\n",
    "saisie_vy = widgets.HBox([vy])\n",
    "display(saisie_vy)\n",
    "\n",
    "vz = widgets.FloatText(vz=0, description='v0z:')\n",
    "saisie_vz = widgets.HBox([vz])\n",
    "display(saisie_vz)\n",
    "\n",
    "m = widgets.FloatText(m=0, description='masse:')\n",
    "saisie_m = widgets.HBox([m])\n",
    "display(saisie_m)\n",
    "\n",
    "nombre_jour = widgets.FloatText(nombre_jour=0, description='nb jours:')\n",
    "saisie_nombre_jour = widgets.HBox([nombre_jour])\n",
    "display(saisie_nombre_jour)\n",
    "\n",
    "\n",
    "#Essai pour Bennu (plus loin dans le document)\n",
    "# X0_bennu=-1.771200169146505e11\n",
    "# Y0_bennu=-5.748793053256947e10\n",
    "# Z0_bennu=-5.516699445654344e09\n",
    "# V0X_bennu=4.41223190e03\n",
    "# V0Y_bennu=1.68284257e04\n",
    "# V0Z_bennu=1.81969963e03\n",
    "# masse_bennu=7.329e10 #kg\n",
    "# nbj=300"
   ]
  },
  {
   "cell_type": "code",
   "execution_count": 90,
   "id": "adequate-detector",
   "metadata": {},
   "outputs": [],
   "source": [
    "#Création de la fonction permettant de calculer une liste de position de l'objet en fonction des paramètres précédents\n",
    "x0=x.value\n",
    "y0=y.value\n",
    "z0=z.value\n",
    "v0x=vx.value\n",
    "v0y=vy.value\n",
    "v0z=vz.value\n",
    "w=int(m.value)\n",
    "nbj=int(nombre_jour.value)\n",
    "POS_OBJ=Euler([x0,y0,z0],[v0x,v0y,v0z],1,nbj)\n",
    "\n",
    "\n",
    "#On créé des listes pour pouvoir plot la trajectoire\n",
    "x_obj=[]\n",
    "y_obj=[]\n",
    "z_obj=[]\n",
    "for i in range(0,len(POS_OBJ)):\n",
    "    x_obj.append(POS_OBJ[i][0])\n",
    "    y_obj.append(POS_OBJ[i][1])\n",
    "    z_obj.append(POS_OBJ[i][2])\n",
    "    \n"
   ]
  },
  {
   "cell_type": "code",
   "execution_count": 91,
   "id": "instrumental-testimony",
   "metadata": {},
   "outputs": [
    {
     "data": {
      "application/vnd.jupyter.widget-view+json": {
       "model_id": "a137f95141624054aaf798ab2c7c63d2",
       "version_major": 2,
       "version_minor": 0
      },
      "text/plain": [
       "Canvas(toolbar=Toolbar(toolitems=[('Home', 'Reset original view', 'home', 'home'), ('Back', 'Back to previous …"
      ]
     },
     "metadata": {},
     "output_type": "display_data"
    },
    {
     "name": "stderr",
     "output_type": "stream",
     "text": [
      "<ipython-input-91-ccde9681f1df>:66: UserWarning: Attempting to set identical left == right == 0 results in singular transformations; automatically expanding.\n",
      "  curseur = Slider(barre_curseur, 'Défilement du temps (j)', 0, nbj, valinit=0, valfmt='%d')\n"
     ]
    }
   ],
   "source": [
    "#Utile pour la fonction Slider, textbox et pour rendre les graph interactifs\n",
    "#Activez Widget pour une utilisation depuis JupyterLAB,  Notebook pour une utilisation depuis JupyterNotebook\n",
    "%matplotlib widget \n",
    "#%matplotlib notebook\n",
    "\n",
    "fig = plt.figure(figsize=(9, 9))\n",
    "ax= fig.gca(projection='3d')\n",
    "\n",
    "\n",
    "#En fonction de la valeur donnée par le slider  \n",
    "def orbites(val):\n",
    "    \n",
    "    idx = int(curseur.val)\n",
    "    #permet d'effacer les précédentes positions à l'affichage des nouvelles\n",
    "    planetes_scatter_int(idx)\n",
    "    planetes_scatter_ext(idx)\n",
    "    \n",
    "    \n",
    "    #Les orbites des planètes\n",
    "    planetes_plot_int(idx)\n",
    "    planetes_plot_ext(idx)\n",
    "\n",
    "    \n",
    "    #L'objet étudié:\n",
    "    ax.scatter(POS_OBJ[idx][0], POS_OBJ[idx][1],POS_OBJ[idx][2],marker='.',c='black')\n",
    "    ax.plot(x_obj,y_obj,z_obj)    \n",
    "\n",
    "    \n",
    "    #le soleil\n",
    "    ax.scatter(0,0,0,'ro',c='yellow',label='SOLEIL')\n",
    "    \n",
    "\n",
    "    fig.canvas.draw_idle()\n",
    "\n",
    "    \n",
    "#En fonction de la valeur donnée par la saisie de texte   \n",
    "def valeur(text):\n",
    "    \n",
    "    idx = int(text)\n",
    "    #permet d'effacer les précédentes positions à l'affichage des nouvelles\n",
    "    #les planètes individuelles\n",
    "    planetes_scatter_int(idx)\n",
    "    planetes_scatter_ext(idx)\n",
    "    \n",
    "    \n",
    "    #le soleil\n",
    "    ax.scatter(0,0,0,'ro',c='yellow',label='SOLEIL')\n",
    "    \n",
    "    #Les orbites des planètes\n",
    "    planetes_plot_int(idx)\n",
    "    planetes_plot_ext(idx)\n",
    "    \n",
    "    #L'objet étudié:\n",
    "    ax.scatter(POS_OBJ[idx][0], POS_OBJ[idx][1],POS_OBJ[idx][2],marker='.',c='black')\n",
    "    ax.plot(x_obj,y_obj,z_obj) \n",
    "            \n",
    "    \n",
    "    fig.canvas.draw_idle()   \n",
    "    \n",
    "\n",
    "    \n",
    "\n",
    "    \n",
    "# Slider\n",
    "barre_curseur = plt.axes([0.25, 0.05, 0.6, 0.03])\n",
    "curseur = Slider(barre_curseur, 'Défilement du temps (j)', 0, nbj, valinit=0, valfmt='%d')\n",
    "\n",
    "\n",
    "curseur.on_changed(orbites)\n",
    "\n",
    "#Text box\n",
    "cadre_text_1 = plt.axes([0.25, 0.10, 0.1, 0.03])\n",
    "text_box_1 = TextBox(cadre_text_1, 'pos. des planètes au jour :')\n",
    "text_box_1.on_submit(valeur)\n",
    "\n",
    "\n",
    "\n",
    "#Permet d'avoir un peu de place sous le graphique pour les cadres et le titre\n",
    "plt.subplots_adjust(bottom=0.20)\n",
    "\n",
    "\n",
    "\n",
    "plt.show()"
   ]
  },
  {
   "cell_type": "markdown",
   "id": "tribal-bathroom",
   "metadata": {},
   "source": [
    "Nous parvenons donc à modéliser la trajectoire d'un objet dans le système solaire. Comme attendu, le soleil est le facteur le plus important dans la trajectoire de l'objet."
   ]
  },
  {
   "cell_type": "markdown",
   "id": "primary-stroke",
   "metadata": {},
   "source": [
    "### Critique du modèle : \n",
    "\n",
    "Comme indiqué précedemment, un modèle est une représentation simplifiée de la nature. Il est cependant nécessaire afin d'apréhender celui-ci, d'estimer son imprécision. Pour cela, nous allons comparer les données obtenues avec notre modèle à des données réelles trouvées sur le site du JPL. Pour cela nous générons un éphéméride du 5 janvier 2021 (t0 de la terre dans notre modèle) et pour 360 jours soit jusqu'au 1er novembre 2021, ainsi qu'un éphéméride pour mars du 03 aout 2020 (le t0 de mars dans notre modèle) jusqu'au 30 mai 2021"
   ]
  },
  {
   "cell_type": "code",
   "execution_count": 92,
   "id": "silver-broadcast",
   "metadata": {},
   "outputs": [
    {
     "name": "stdout",
     "output_type": "stream",
     "text": [
      "Nous obtenons une erreur moyenne sur les coordonnées x pour la terre de :   1.64E+11 m\n",
      "Nous obtenons une erreur moyenne sur les coordonnées y pour la terre de :   1.37E+11 m\n",
      "Nous obtenons une erreur moyenne sur les coordonnées z pour la terre de :   2.20E+07 m\n",
      "----------------------------------------------------------\n",
      "Nous obtenons une erreur moyenne sur les coordonnées x pour mars de :   6.57E+10 m\n",
      "Nous obtenons une erreur moyenne sur les coordonnées y pour mars de :   5.43E+10 m\n",
      "Nous obtenons une erreur moyenne sur les coordonnées z pour mars de :   4.48E+09 m\n"
     ]
    }
   ],
   "source": [
    "#Import et mise en forme du document du JPL\n",
    "colnames=['x','y','z'] \n",
    "data_terre = pd.read_csv(\"terre_ephemeride.txt\",names=colnames,delimiter=',', skiprows=55,usecols=range(2,5))\n",
    "data_terre = data_terre.dropna()\n",
    "\n",
    "colnames=['x','y','z'] \n",
    "data_mars = pd.read_csv(\"mars_ephemeride.txt\",names=colnames,delimiter=',', skiprows=34,usecols=range(2,5))\n",
    "data_mars = data_mars.dropna()\n",
    "\n",
    "\n",
    "\n",
    "#Organisation dans des listes\n",
    "X_terre=data_terre.x.tolist()\n",
    "Y_terre=data_terre.y.tolist()\n",
    "Z_terre=data_terre.z.tolist()\n",
    "\n",
    "X_mars=data_mars.x.tolist()\n",
    "Y_mars=data_mars.y.tolist()\n",
    "Z_mars=data_mars.z.tolist()\n",
    "\n",
    "\n",
    "#Création de liste de valeurs nulles étant donné que nous avons négligé l'inclinaison des orbites : \n",
    "Z_TERRE_mod=[0]*365\n",
    "Z_MARS_mod=[0]*365\n",
    "\n",
    "\n",
    "#Comparaison \n",
    "delta_x_terre=[]\n",
    "delta_y_terre=[]\n",
    "delta_z_terre=[]\n",
    "\n",
    "delta_x_mars=[]\n",
    "delta_y_mars=[]\n",
    "delta_z_mars=[]\n",
    "\n",
    "\n",
    "#Calcul des différences entre les coordonnées\n",
    "for i in range (300):\n",
    "    delta_x_terre.append(abs((X_terre[i]*10**3)-TERRE[0][i]))\n",
    "    delta_y_terre.append(abs((Y_terre[i]*10**3)-TERRE[1][i]))\n",
    "    delta_z_terre.append(abs((Z_terre[i]*10**3)-Z_TERRE_mod[i]))\n",
    "    \n",
    "for i in range (300):\n",
    "    delta_x_mars.append(abs((X_mars[i]*10**3)-MARS[0][i]))\n",
    "    delta_y_mars.append(abs((Y_mars[i]*10**3)-MARS[1][i]))\n",
    "    delta_z_mars.append(abs((Z_mars[i]*10**3)-Z_MARS_mod[i]))\n",
    "\n",
    "\n",
    "    \n",
    "moy_x_terre=np.mean(delta_x_terre) \n",
    "moy_y_terre=np.mean(delta_y_terre) \n",
    "moy_z_terre=np.mean(delta_z_terre) \n",
    "\n",
    "moy_x_mars=np.mean(delta_x_mars) \n",
    "moy_y_mars=np.mean(delta_y_mars) \n",
    "moy_z_mars=np.mean(delta_z_mars) \n",
    "\n",
    "\n",
    "print(\"Nous obtenons une erreur moyenne sur les coordonnées x pour la terre de :\",format(moy_x_terre, \"10.2E\"),\"m\")\n",
    "print(\"Nous obtenons une erreur moyenne sur les coordonnées y pour la terre de :\",format(moy_y_terre, \"10.2E\"),\"m\")\n",
    "print(\"Nous obtenons une erreur moyenne sur les coordonnées z pour la terre de :\",format(moy_z_terre, \"10.2E\"),\"m\")\n",
    "print('----------------------------------------------------------')\n",
    "\n",
    "print(\"Nous obtenons une erreur moyenne sur les coordonnées x pour mars de :\",format(moy_x_mars, \"10.2E\"),\"m\")\n",
    "print(\"Nous obtenons une erreur moyenne sur les coordonnées y pour mars de :\",format(moy_y_mars, \"10.2E\"),\"m\")\n",
    "print(\"Nous obtenons une erreur moyenne sur les coordonnées z pour mars de :\",format(moy_z_mars, \"10.2E\"),\"m\")"
   ]
  },
  {
   "cell_type": "markdown",
   "id": "realistic-cookbook",
   "metadata": {},
   "source": [
    "Notre modèle montre un réel décalage entre les positions réelles à un instant T et les positions modélisées au même instant T. Cependant, cela peut être dû à une différence de t0, créant un décallage sur les orbites.On note que si l'on décalle l'orbite de la terre de 105 jours, nous semblons réduire considérablement l'erreur sur la position en x et en y\n",
    "\n"
   ]
  },
  {
   "cell_type": "code",
   "execution_count": 93,
   "id": "elder-excitement",
   "metadata": {},
   "outputs": [
    {
     "name": "stdout",
     "output_type": "stream",
     "text": [
      "Nous obtenons une erreur moyenne sur les coordonnées x pour la terre de :   2.81E+09 m\n",
      "Nous obtenons une erreur moyenne sur les coordonnées y pour la terre de :   3.13E+09 m\n"
     ]
    }
   ],
   "source": [
    "#Agrandissons la liste des positions modélisées de la terre : \n",
    "def allongement(planete):\n",
    "    temp=np.array((planete[0],planete[1])).T\n",
    "    allonge=np.tile(temp,(2,1))\n",
    "    return allonge\n",
    "\n",
    "TERRE_LONG=allongement(TERRE)\n",
    "\n",
    "#Comparaison \n",
    "delta_x_terre2=[]\n",
    "delta_y_terre2=[]\n",
    "\n",
    "#Calcul des différences entre les coordonnées avec 105 jours de décallage\n",
    "for i in range (300):\n",
    "    delta_x_terre2.append(abs((X_terre[i]*10**3)-TERRE_LONG[i+105][0]))\n",
    "    delta_y_terre2.append(abs((Y_terre[i]*10**3)-TERRE_LONG[i+105][1]))\n",
    "    \n",
    "moy_x_terre=np.mean(delta_x_terre2) \n",
    "moy_y_terre=np.mean(delta_y_terre2) \n",
    "\n",
    "print(\"Nous obtenons une erreur moyenne sur les coordonnées x pour la terre de :\",format(moy_x_terre, \"10.2E\"),\"m\")\n",
    "print(\"Nous obtenons une erreur moyenne sur les coordonnées y pour la terre de :\",format(moy_y_terre, \"10.2E\"),\"m\")\n"
   ]
  },
  {
   "cell_type": "markdown",
   "id": "missing-mason",
   "metadata": {},
   "source": [
    "Il y a évidemment d'autres pistes possibles pour expliquer les différences entre notre modèle et la réalité. Il est toutefois intéressant de noter que nous avons pu mettre en évidence le role du soleil et obtenir des mouvements d'objet et de planètes cohérents"
   ]
  },
  {
   "cell_type": "code",
   "execution_count": 94,
   "id": "disturbed-money",
   "metadata": {},
   "outputs": [],
   "source": [
    "#Import et mise en forme du document du JPL\n",
    "colnames2=['x','y','z'] \n",
    "\n",
    "data_bennu = pd.read_csv(\"bennu_ephemeride.txt\",names=colnames2 ,delimiter=',', skiprows=73, usecols=range(2,5))\n",
    "data_bennu = data_bennu.dropna()\n",
    "\n",
    "#Organisation dans des listes\n",
    "X_bennu=data_bennu.x.tolist()\n",
    "Y_bennu=data_bennu.y.tolist()\n",
    "Z_bennu=data_bennu.z.tolist()\n",
    "\n",
    "\n",
    "#Conversion en m\n",
    "for i in range(0,len(X_bennu)):\n",
    "    X_bennu[i]=X_bennu[i]*1000\n",
    "    Y_bennu[i]=Y_bennu[i]*1000\n",
    "    Z_bennu[i]=Z_bennu[i]*1000\n",
    "\n"
   ]
  },
  {
   "cell_type": "code",
   "execution_count": 95,
   "id": "absolute-samoa",
   "metadata": {},
   "outputs": [
    {
     "data": {
      "application/vnd.jupyter.widget-view+json": {
       "model_id": "7f0ff5dd50fa4eb09bfedaa11aac7494",
       "version_major": 2,
       "version_minor": 0
      },
      "text/plain": [
       "Canvas(toolbar=Toolbar(toolitems=[('Home', 'Reset original view', 'home', 'home'), ('Back', 'Back to previous …"
      ]
     },
     "metadata": {},
     "output_type": "display_data"
    }
   ],
   "source": [
    "#Utile pour la fonction Slider, textbox et pour rendre les graph interactifs\n",
    "#Activez Widget pour une utilisation depuis JupyterLAB,  Notebook pour une utilisation depuis JupyterNotebook\n",
    "%matplotlib widget \n",
    "#%matplotlib notebook\n",
    "\n",
    "fig = plt.figure(figsize=(9, 9))\n",
    "ax= fig.gca(projection='3d')\n",
    "\n",
    "ax.scatter(0,0,0,marker='o',c='yellow')\n",
    "planetes_plot_int(30)\n",
    "planetes_plot_ext(30)\n",
    "\n",
    "ax.plot(X_bennu,Y_bennu,Z_bennu,marker='.',c='black')\n",
    "\n",
    "plt.show()"
   ]
  },
  {
   "attachments": {
    "image.png": {
     "image/png": "[encoded data removed]"
    }
   },
   "cell_type": "markdown",
   "id": "fresh-chocolate",
   "metadata": {},
   "source": [
    "![image.png](attachment:image.png)\n",
    "\n",
    "<center> ci-dessus, une visualisation de notre modèle avec les paramètres initiaux de Bennu\n",
    "\n",
    "<br>\n",
    "    \n",
    "On constate que la trajectoire obtenue avec les paramètres initiaux de Bennu (situés en commentaire à l'endroit des cases de saisie) semble correspondre à notre trajectoire modélisée à partir des données des éphémérides. Ce qui renforce l'idée que le Soleil a une influence majeure sur le modèle, bien plus que l'ensemble des planètes. "
   ]
  },
  {
   "cell_type": "markdown",
   "id": "centered-disposal",
   "metadata": {},
   "source": [
    "### Conclusion : \n",
    "\n",
    "Dans ce projet, nous sommes parvenus à modéliser la trajectoire en trois dimensions, d'un objet, en spécifiant ses données initiales. Nous sommes parvenus à modéliser le système solaire,à le représenter et à calculer les différentes forces d'interaction gravitationnelles sur notre objet. Avec la méthode d'Euler, nous sommes parvenus à obtenir une liste de positions nous permettant de prédire le comportement de notre objet. \n",
    "<br>\n",
    "Comme nous l'avons montré ci-dessus, notre modèle n'est pas une représentation fidèle de la réalité, mais il nous a tout de même permi de mesurer l'importance du soleil dans les interactions gravitationnelles. De nombreux paramètres pourraient améliorer la précision du modèle tel que l'interaction des planètes entre-elles, l'inclinaison de l'orbite, l'angle entre le periapse et l'axe \"de référence\" des coordonnées utilisées par la Nasa. "
   ]
  },
  {
   "cell_type": "markdown",
   "id": "korean-congress",
   "metadata": {},
   "source": [
    "### Bibliographie : \n",
    "* Ephemeride du JPL : https://ssd.jpl.nasa.gov/horizons.cgi#top\n",
    "* Planetary Fact Sheet de la Nasa : https://nssdc.gsfc.nasa.gov/planetary/factsheet/\n",
    "* Anomalie vraie : https://fr.wikipedia.org/wiki/Anomalie_vraie\n",
    "* Anomalie moyenne : https://fr.wikipedia.org/wiki/Anomalie_moyenne\n",
    "* Anomalie excentrique : https://fr.wikipedia.org/wiki/Anomalie_excentrique\n",
    "* Détail du slider : https://matplotlib.org/stable/gallery/widgets/slider_demo.html \n",
    "* Détail de la textbox : https://matplotlib.org/stable/gallery/widgets/textbox.html\n",
    "* Détail des cases de saisie : https://ipywidgets.readthedocs.io/en/latest/examples/Using%20Interact.html\n",
    "\n"
   ]
  },
  {
   "cell_type": "code",
   "execution_count": null,
   "id": "korean-console",
   "metadata": {},
   "outputs": [],
   "source": []
  }
 ],
 "metadata": {
  "kernelspec": {
   "display_name": "Python 3",
   "language": "python",
   "name": "python3"
  },
  "language_info": {
   "codemirror_mode": {
    "name": "ipython",
    "version": 3
   },
   "file_extension": ".py",
   "mimetype": "text/x-python",
   "name": "python",
   "nbconvert_exporter": "python",
   "pygments_lexer": "ipython3",
   "version": "3.9.1"
  }
 },
 "nbformat": 4,
 "nbformat_minor": 5
}
