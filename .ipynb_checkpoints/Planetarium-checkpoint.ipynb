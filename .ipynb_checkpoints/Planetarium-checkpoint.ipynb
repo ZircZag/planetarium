{
 "cells": [
  {
   "cell_type": "code",
   "execution_count": 1,
   "id": "placed-humanitarian",
   "metadata": {},
   "outputs": [],
   "source": [
    "# Quelques imports nécéssaires au bon déroulement du projet\n",
    "\n",
    "import numpy as np\n",
    "import matplotlib.pyplot as plt\n",
    "import math\n"
   ]
  },
  {
   "cell_type": "markdown",
   "id": "indoor-syria",
   "metadata": {},
   "source": [
    "### Partie I : Orbite d'un corps autour du soleil\n",
    "\n",
    "Ici, on va tenter de formaliser l'orbite d'un corps autour d'une planète en passant par les expressions des différentes anomalies.\n",
    "\n",
    "D'abord, l'anomalie moyenne M peut être calculée facilement en fonction du temps et du moyen mouvement d'une planète. Ces moyens mouvements sont facilement trouvables sur le net.\n",
    "\n",
    "On va effectuer nos calculs pour la planète Terre afin d'éprouver leur efficacité."
   ]
  },
  {
   "cell_type": "code",
   "execution_count": 2,
   "id": "latest-thriller",
   "metadata": {},
   "outputs": [],
   "source": [
    "# Fonction calculant l'anomalie moyenne en fonction du temps, du moyen mouvement d'un corps, et de l'origine des temps, passage de la planète au périapside\n",
    "def M(t,m,t0):\n",
    "    return m*(t-t0)"
   ]
  },
  {
   "cell_type": "markdown",
   "id": "primary-tiger",
   "metadata": {},
   "source": [
    "On peut utiliser cette anomalie moyenne pour déterminer l'anomalie excentrique à un instant t.\n",
    "Le détail du calcul est trouvable sur la page wikipedia de l'anomalie excentrique."
   ]
  },
  {
   "cell_type": "code",
   "execution_count": 3,
   "id": "eight-cowboy",
   "metadata": {},
   "outputs": [],
   "source": [
    "# Fonction calculant l'anomalie excentrique en fonction de l'anomalie moyenne et de l'excentricité\n",
    "def E(M,e):\n",
    "    E = M\n",
    "    for i in range(0,5):\n",
    "        E = M + e * np.sin(E)\n",
    "    return E"
   ]
  },
  {
   "cell_type": "markdown",
   "id": "interesting-julian",
   "metadata": {},
   "source": [
    "De cette anomalie excentrique peut être déduite l'anomalie vrai à l'instant t."
   ]
  },
  {
   "cell_type": "code",
   "execution_count": 11,
   "id": "confused-party",
   "metadata": {},
   "outputs": [],
   "source": [
    "def v(E,e):\n",
    "    return np.arccos((np.cos(E)-e)/(1-(e*np.cos(E))))"
   ]
  },
  {
   "cell_type": "markdown",
   "id": "persistent-commercial",
   "metadata": {},
   "source": [
    "Finalement, on utilise cette anomalie vraie pour déterminer la distance du corps à son astre, en fonction du demi grand-axe a."
   ]
  },
  {
   "cell_type": "code",
   "execution_count": 14,
   "id": "baking-permission",
   "metadata": {},
   "outputs": [],
   "source": [
    "def R(v, a, e):\n",
    "    return ((a(1-e**2))/(1+e*np.cos(v)))"
   ]
  },
  {
   "cell_type": "markdown",
   "id": "serial-intersection",
   "metadata": {},
   "source": [
    "Eprouvons maintenant ces méthodes sur l'orbite terrestre. Cette orbite dure 365 jours environ. Cela donne 31536000 secondes."
   ]
  },
  {
   "cell_type": "code",
   "execution_count": 17,
   "id": "subsequent-desktop",
   "metadata": {},
   "outputs": [
    {
     "name": "stdout",
     "output_type": "stream",
     "text": [
      "[0.         0.01783555 0.03567092 0.05350591 0.07134035 0.08917404\n",
      " 0.1070068  0.12483844 0.14266878 0.16049764 0.17832482 0.19615015\n",
      " 0.21397345 0.23179452 0.2496132  0.2674293  0.28524265 0.30305305\n",
      " 0.32086034 0.33866434 0.35646488 0.37426178 0.39205487 0.40984398\n",
      " 0.42762895 0.44540959 0.46318575 0.48095726 0.49872397 0.5164857\n",
      " 0.5342423  0.55199361 0.56973948 0.58747976 0.60521428 0.62294291\n",
      " 0.6406655  0.65838189 0.67609195 0.69379555 0.71149253 0.72918276\n",
      " 0.74686612 0.76454246 0.78221167 0.79987361 0.81752816 0.8351752\n",
      " 0.85281462 0.87044629 0.88807011 0.90568596 0.92329374 0.94089334\n",
      " 0.95848466 0.9760676  0.99364207 1.01120797 1.02876521 1.04631371\n",
      " 1.06385338 1.08138413 1.0989059  1.1164186  1.13392216 1.15141652\n",
      " 1.1689016  1.18637735 1.20384369 1.22130059 1.23874797 1.25618579\n",
      " 1.27361401 1.29103257 1.30844143 1.32584057 1.34322993 1.36060949\n",
      " 1.37797921 1.39533908 1.41268907 1.43002915 1.44735931 1.46467954\n",
      " 1.48198982 1.49929015 1.51658052 1.53386093 1.55113137 1.56839186\n",
      " 1.5856424  1.602883   1.62011367 1.63733443 1.65454529 1.67174628\n",
      " 1.68893742 1.70611874 1.72329027 1.74045204 1.75760409 1.77474645\n",
      " 1.79187916 1.80900228 1.82611584 1.8432199  1.8603145  1.8773997\n",
      " 1.89447556 1.91154214 1.9285995  1.9456477  1.96268681 1.9797169\n",
      " 1.99673804 2.01375031 2.03075378 2.04774854 2.06473465 2.08171221\n",
      " 2.09868131 2.11564203 2.13259445 2.14953868 2.16647481 2.18340293\n",
      " 2.20032314 2.21723554 2.23414025 2.25103735 2.26792695 2.28480918\n",
      " 2.30168412 2.31855191 2.33541265 2.35226645 2.36911343 2.38595372\n",
      " 2.40278743 2.41961469 2.43643562 2.45325034 2.47005898 2.48686167\n",
      " 2.50365854 2.52044972 2.53723535 2.55401555 2.57079046 2.58756022\n",
      " 2.60432497 2.62108484 2.63783997 2.65459051 2.67133659 2.68807837\n",
      " 2.70481598 2.72154957 2.73827929 2.75500528 2.77172769 2.78844666\n",
      " 2.80516236 2.82187492 2.83858451 2.85529126 2.87199534 2.8886969\n",
      " 2.90539608 2.92209305 2.93878795 2.95548095 2.9721722  2.98886185\n",
      " 3.00555006 3.02223699 3.03892279 3.05560762 3.07229164 3.088975\n",
      " 3.10565787 3.12234039 3.13902274 3.12748025 3.1107978  3.09411505\n",
      " 3.07743186 3.06074806 3.0440635  3.02737801 3.01069145 2.99400365\n",
      " 2.97731446 2.96062372 2.94393128 2.92723698 2.91054066 2.89384218\n",
      " 2.87714137 2.86043809 2.84373217 2.82702348 2.81031184 2.79359713\n",
      " 2.77687918 2.76015784 2.74343297 2.72670442 2.70997204 2.69323568\n",
      " 2.67649521 2.65975046 2.64300131 2.62624761 2.60948921 2.59272598\n",
      " 2.57595778 2.55918447 2.54240592 2.52562198 2.50883252 2.49203742\n",
      " 2.47523654 2.45842974 2.44161691 2.42479791 2.40797261 2.3911409\n",
      " 2.37430265 2.35745774 2.34060605 2.32374747 2.30688186 2.29000914\n",
      " 2.27312917 2.25624185 2.23934706 2.22244472 2.2055347  2.1886169\n",
      " 2.17169123 2.15475758 2.13781585 2.12086596 2.10390781 2.08694131\n",
      " 2.06996636 2.05298289 2.03599081 2.01899003 2.00198048 1.98496208\n",
      " 1.96793475 1.95089843 1.93385304 1.91679851 1.89973478 1.88266179\n",
      " 1.86557947 1.84848777 1.83138663 1.814276   1.79715583 1.78002608\n",
      " 1.7628867  1.74573764 1.72857887 1.71141035 1.69423205 1.67704394\n",
      " 1.65984598 1.64263816 1.62542046 1.60819284 1.5909553  1.57370783\n",
      " 1.55645041 1.53918303 1.52190569 1.50461839 1.48732113 1.47001392\n",
      " 1.45269675 1.43536965 1.41803262 1.40068568 1.38332886 1.36596217\n",
      " 1.34858563 1.33119929 1.31380316 1.29639729 1.27898171 1.26155647\n",
      " 1.2441216  1.22667716 1.20922319 1.19175975 1.17428689 1.15680468\n",
      " 1.13931318 1.12181244 1.10430255 1.08678357 1.06925558 1.05171865\n",
      " 1.03417286 1.0166183  0.99905506 0.98148322 0.96390288 0.94631413\n",
      " 0.92871707 0.9111118  0.89349843 0.87587705 0.85824779 0.84061075\n",
      " 0.82296604 0.80531379 0.78765411 0.76998713 0.75231297 0.73463176\n",
      " 0.71694363 0.69924872 0.68154715 0.66383906 0.6461246  0.62840391\n",
      " 0.61067713 0.5929444  0.57520588 0.55746172 0.53971207 0.52195708\n",
      " 0.50419691 0.48643172 0.46866167 0.45088693 0.43310765 0.415324\n",
      " 0.39753615 0.37974427 0.36194852 0.34414909 0.32634613 0.30853983\n",
      " 0.29073037 0.27291791 0.25510265 0.23728474 0.21946438 0.20164175\n",
      " 0.18381703 0.1659904  0.14816204 0.13033213 0.11250087 0.09466844\n",
      " 0.07683502 0.05900079 0.04116595 0.02333068 0.00549516]\n"
     ]
    },
    {
     "ename": "TypeError",
     "evalue": "'float' object is not callable",
     "output_type": "error",
     "traceback": [
      "\u001b[1;31m---------------------------------------------------------------------------\u001b[0m",
      "\u001b[1;31mTypeError\u001b[0m                                 Traceback (most recent call last)",
      "\u001b[1;32m<ipython-input-17-1ace0e0b6337>\u001b[0m in \u001b[0;36m<module>\u001b[1;34m\u001b[0m\n\u001b[0;32m     13\u001b[0m \u001b[0mrl\u001b[0m\u001b[1;33m=\u001b[0m\u001b[1;33m[\u001b[0m\u001b[1;33m]\u001b[0m\u001b[1;33m\u001b[0m\u001b[1;33m\u001b[0m\u001b[0m\n\u001b[0;32m     14\u001b[0m \u001b[1;32mfor\u001b[0m \u001b[0mi\u001b[0m \u001b[1;32min\u001b[0m \u001b[0mrange\u001b[0m\u001b[1;33m(\u001b[0m\u001b[1;36m0\u001b[0m\u001b[1;33m,\u001b[0m\u001b[0mlen\u001b[0m\u001b[1;33m(\u001b[0m\u001b[0mVl\u001b[0m\u001b[1;33m)\u001b[0m\u001b[1;33m)\u001b[0m\u001b[1;33m:\u001b[0m\u001b[1;33m\u001b[0m\u001b[1;33m\u001b[0m\u001b[0m\n\u001b[1;32m---> 15\u001b[1;33m     \u001b[0mrl\u001b[0m\u001b[1;33m.\u001b[0m\u001b[0mappend\u001b[0m\u001b[1;33m(\u001b[0m\u001b[0mr\u001b[0m\u001b[1;33m(\u001b[0m\u001b[0mVl\u001b[0m\u001b[1;33m[\u001b[0m\u001b[0mi\u001b[0m\u001b[1;33m]\u001b[0m\u001b[1;33m,\u001b[0m\u001b[0ma\u001b[0m\u001b[1;33m,\u001b[0m\u001b[0mex_terre\u001b[0m\u001b[1;33m)\u001b[0m\u001b[1;33m)\u001b[0m\u001b[1;33m\u001b[0m\u001b[1;33m\u001b[0m\u001b[0m\n\u001b[0m",
      "\u001b[1;32m<ipython-input-14-d33ad03054df>\u001b[0m in \u001b[0;36mr\u001b[1;34m(v, a, e)\u001b[0m\n\u001b[0;32m      1\u001b[0m \u001b[1;32mdef\u001b[0m \u001b[0mr\u001b[0m\u001b[1;33m(\u001b[0m\u001b[0mv\u001b[0m\u001b[1;33m,\u001b[0m \u001b[0ma\u001b[0m\u001b[1;33m,\u001b[0m \u001b[0me\u001b[0m\u001b[1;33m)\u001b[0m\u001b[1;33m:\u001b[0m\u001b[1;33m\u001b[0m\u001b[1;33m\u001b[0m\u001b[0m\n\u001b[1;32m----> 2\u001b[1;33m     \u001b[1;32mreturn\u001b[0m \u001b[1;33m(\u001b[0m\u001b[1;33m(\u001b[0m\u001b[0ma\u001b[0m\u001b[1;33m(\u001b[0m\u001b[1;36m1\u001b[0m\u001b[1;33m-\u001b[0m\u001b[0me\u001b[0m\u001b[1;33m**\u001b[0m\u001b[1;36m2\u001b[0m\u001b[1;33m)\u001b[0m\u001b[1;33m)\u001b[0m\u001b[1;33m/\u001b[0m\u001b[1;33m(\u001b[0m\u001b[1;36m1\u001b[0m\u001b[1;33m+\u001b[0m\u001b[0me\u001b[0m\u001b[1;33m*\u001b[0m\u001b[0mnp\u001b[0m\u001b[1;33m.\u001b[0m\u001b[0mcos\u001b[0m\u001b[1;33m(\u001b[0m\u001b[0mv\u001b[0m\u001b[1;33m)\u001b[0m\u001b[1;33m)\u001b[0m\u001b[1;33m)\u001b[0m\u001b[1;33m\u001b[0m\u001b[1;33m\u001b[0m\u001b[0m\n\u001b[0m",
      "\u001b[1;31mTypeError\u001b[0m: 'float' object is not callable"
     ]
    }
   ],
   "source": [
    "year=31536000 #s\n",
    "nbdays=365 #j\n",
    "time=np.linspace(0,year,nbdays)\n",
    "ex_terre=0.01671022\n",
    "a=149.6*10**9 #m\n",
    "mm=1.9907e-7 #rad/s\n",
    "t0=0 #s\n",
    "\n",
    "Ml=M(time,mm,t0)\n",
    "El=E(Ml,ex_terre)\n",
    "Vl=v(El,ex_terre)\n",
    "print(Vl)\n",
    "rl=[]\n",
    "for i in range(0,len(Vl)):\n",
    "    rl.append(r(Vl[i],a,ex_terre))\n"
   ]
  },
  {
   "cell_type": "code",
   "execution_count": null,
   "id": "manual-flesh",
   "metadata": {},
   "outputs": [],
   "source": []
  }
 ],
 "metadata": {
  "kernelspec": {
   "display_name": "Python 3",
   "language": "python",
   "name": "python3"
  },
  "language_info": {
   "codemirror_mode": {
    "name": "ipython",
    "version": 3
   },
   "file_extension": ".py",
   "mimetype": "text/x-python",
   "name": "python",
   "nbconvert_exporter": "python",
   "pygments_lexer": "ipython3",
   "version": "3.9.1"
  }
 },
 "nbformat": 4,
 "nbformat_minor": 5
}
